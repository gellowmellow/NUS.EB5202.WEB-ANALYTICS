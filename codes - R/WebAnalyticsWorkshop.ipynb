{
 "cells": [
  {
   "cell_type": "code",
   "execution_count": 170,
   "metadata": {},
   "outputs": [],
   "source": [
    "library(arules)\n",
    "library(dplyr)\n",
    "library(ggplot2)\n",
    "library(magrittr)\n",
    "library(stringr)"
   ]
  },
  {
   "cell_type": "code",
   "execution_count": 171,
   "metadata": {
    "collapsed": true
   },
   "outputs": [],
   "source": [
    "check_preds=function(preds,user_id) {\n",
    "    plist = preds[[1]]\n",
    "    ulist = users_movies[users_movies$user_id == user_id,\"movie_id\"][[1]]\n",
    "    cnt = 0 \n",
    "    \n",
    "    for (p in plist) {\n",
    "        if (grepl(p, ulist, fixed=TRUE)) cnt = cnt+1\n",
    "    }\n",
    "        \n",
    "    return(cnt)\n",
    "}"
   ]
  },
  {
   "cell_type": "code",
   "execution_count": 172,
   "metadata": {
    "collapsed": true
   },
   "outputs": [],
   "source": [
    "create_matrix=function(table,column1,column2){\n",
    "    return(as(split(table[,column1],table[,column2]),'transactions'))\n",
    "}"
   ]
  },
  {
   "cell_type": "code",
   "execution_count": 173,
   "metadata": {
    "collapsed": true
   },
   "outputs": [],
   "source": [
    "count_preds=function(preds) {\n",
    "  len=length(preds)\n",
    "    \n",
    "  if(len>0 && (preds[[1]]==''))\n",
    "      0 #avoid counting an empty list\n",
    "  else\n",
    "      len\n",
    "}"
   ]
  },
  {
   "cell_type": "code",
   "execution_count": 174,
   "metadata": {
    "collapsed": true
   },
   "outputs": [],
   "source": [
    "format_dataset=function(dataset,columns){\n",
    "    if(ncol(dataset)==1)\n",
    "        return(str_split_fixed(dataset$V1,'::',columns))\n",
    "    else\n",
    "        return(dataset)  \n",
    "}"
   ]
  },
  {
   "cell_type": "code",
   "execution_count": 175,
   "metadata": {
    "collapsed": true
   },
   "outputs": [],
   "source": [
    "make_pred=function(item,rules_df){\n",
    "    antecedent=paste('{',item,'}=>',sep='')\n",
    "    firingrules=rules_df[grep(antecedent,rules_df$rules,fixed=TRUE),1]\n",
    "    gsub(' ','',toString(sub('\\\\}','',sub('.*=>\\\\{','',firingrules))))\n",
    "}"
   ]
  },
  {
   "cell_type": "code",
   "execution_count": 176,
   "metadata": {
    "collapsed": true
   },
   "outputs": [],
   "source": [
    "make_unique=function(items){\n",
    "    unique(as.list(strsplit(gsub(' ','',items),','))[[1]])\n",
    "}"
   ]
  },
  {
   "cell_type": "code",
   "execution_count": 177,
   "metadata": {
    "collapsed": true
   },
   "outputs": [],
   "source": [
    "directory='data\\\\1millionfile\\\\ml-1m\\\\'\n",
    "\n",
    "movies='movies.dat'\n",
    "ratings='ratings.dat'\n",
    "users='users.dat'\n",
    "\n",
    "movies=read.csv(paste(c(directory,movies),collapse=''),sep='\\n',stringsAsFactors=FALSE,header=FALSE)\n",
    "ratings=read.csv(paste(c(directory,ratings),collapse=''),sep='\\n',stringsAsFactors=FALSE,header=FALSE)\n",
    "users=read.csv(paste(c(directory,users),collapse=''),sep='\\n',stringsAsFactors=FALSE,header=FALSE)"
   ]
  },
  {
   "cell_type": "code",
   "execution_count": 178,
   "metadata": {},
   "outputs": [
    {
     "data": {
      "text/html": [
       "<table>\n",
       "<thead><tr><th scope=col>V1</th></tr></thead>\n",
       "<tbody>\n",
       "\t<tr><td>1::Toy Story (1995)::Animation|Children's|Comedy</td></tr>\n",
       "\t<tr><td>2::Jumanji (1995)::Adventure|Children's|Fantasy </td></tr>\n",
       "\t<tr><td>3::Grumpier Old Men (1995)::Comedy|Romance      </td></tr>\n",
       "\t<tr><td>4::Waiting to Exhale (1995)::Comedy|Drama       </td></tr>\n",
       "\t<tr><td>5::Father of the Bride Part II (1995)::Comedy   </td></tr>\n",
       "\t<tr><td>6::Heat (1995)::Action|Crime|Thriller           </td></tr>\n",
       "</tbody>\n",
       "</table>\n"
      ],
      "text/latex": [
       "\\begin{tabular}{r|l}\n",
       " V1\\\\\n",
       "\\hline\n",
       "\t 1::Toy Story (1995)::Animation\\textbar{}Children's\\textbar{}Comedy\\\\\n",
       "\t 2::Jumanji (1995)::Adventure\\textbar{}Children's\\textbar{}Fantasy \\\\\n",
       "\t 3::Grumpier Old Men (1995)::Comedy\\textbar{}Romance      \\\\\n",
       "\t 4::Waiting to Exhale (1995)::Comedy\\textbar{}Drama       \\\\\n",
       "\t 5::Father of the Bride Part II (1995)::Comedy   \\\\\n",
       "\t 6::Heat (1995)::Action\\textbar{}Crime\\textbar{}Thriller           \\\\\n",
       "\\end{tabular}\n"
      ],
      "text/markdown": [
       "\n",
       "V1 | \n",
       "|---|---|---|---|---|---|\n",
       "| 1::Toy Story (1995)::Animation|Children's|Comedy | \n",
       "| 2::Jumanji (1995)::Adventure|Children's|Fantasy  | \n",
       "| 3::Grumpier Old Men (1995)::Comedy|Romance       | \n",
       "| 4::Waiting to Exhale (1995)::Comedy|Drama        | \n",
       "| 5::Father of the Bride Part II (1995)::Comedy    | \n",
       "| 6::Heat (1995)::Action|Crime|Thriller            | \n",
       "\n",
       "\n"
      ],
      "text/plain": [
       "  V1                                              \n",
       "1 1::Toy Story (1995)::Animation|Children's|Comedy\n",
       "2 2::Jumanji (1995)::Adventure|Children's|Fantasy \n",
       "3 3::Grumpier Old Men (1995)::Comedy|Romance      \n",
       "4 4::Waiting to Exhale (1995)::Comedy|Drama       \n",
       "5 5::Father of the Bride Part II (1995)::Comedy   \n",
       "6 6::Heat (1995)::Action|Crime|Thriller           "
      ]
     },
     "metadata": {},
     "output_type": "display_data"
    }
   ],
   "source": [
    "head(movies)"
   ]
  },
  {
   "cell_type": "code",
   "execution_count": 179,
   "metadata": {
    "collapsed": true
   },
   "outputs": [],
   "source": [
    "movies=as.data.frame(format_dataset(movies,3))\n",
    "ratings=as.data.frame(format_dataset(ratings,4))\n",
    "users=as.data.frame(format_dataset(users,5))"
   ]
  },
  {
   "cell_type": "code",
   "execution_count": 180,
   "metadata": {
    "collapsed": true
   },
   "outputs": [],
   "source": [
    "colnames(movies)=c('id','title','genre')\n",
    "colnames(ratings)=c('user_id','movie_id','rating','timestamp')\n",
    "colnames(users)=c('id','gender','age','occupation','zip_code')\n",
    "\n",
    "ratings$user_id=as.integer(ratings$user_id)"
   ]
  },
  {
   "cell_type": "code",
   "execution_count": 181,
   "metadata": {
    "collapsed": true
   },
   "outputs": [],
   "source": [
    "movies$year=as.numeric(str_sub(str_trim(movies$title),start=-5,end=-2))\n",
    "movies$title=substr(movies$title,1,nchar(as.character(movies$title))-7)"
   ]
  },
  {
   "cell_type": "code",
   "execution_count": 182,
   "metadata": {
    "collapsed": true
   },
   "outputs": [],
   "source": [
    "genres=unique(unlist(strsplit(as.character(movies$genre),('\\\\|'))))"
   ]
  },
  {
   "cell_type": "code",
   "execution_count": 183,
   "metadata": {
    "collapsed": true
   },
   "outputs": [],
   "source": [
    "for(genre in genres){\n",
    "  movies[str_c('genre_',genre)]=ifelse((str_detect(movies$genre,genre)|str_detect(movies$genre,'no genre')),1,0)\n",
    "}"
   ]
  },
  {
   "cell_type": "code",
   "execution_count": 184,
   "metadata": {
    "collapsed": true
   },
   "outputs": [],
   "source": [
    "user_item_matrix=create_matrix(ratings,'movie_id','user_id')"
   ]
  },
  {
   "cell_type": "code",
   "execution_count": 185,
   "metadata": {
    "scrolled": true
   },
   "outputs": [
    {
     "data": {
      "text/plain": [
       "    user_id        movie_id      rating          timestamp      \n",
       " Min.   :   1   2858   :  3428   1: 56174   975528402 :     30  \n",
       " 1st Qu.:1377   260    :  2991   2:107557   975440712 :     28  \n",
       " Median :2987   1196   :  2990   3:261197   975527781 :     28  \n",
       " Mean   :2975   1210   :  2883   4:348971   1025585635:     27  \n",
       " 3rd Qu.:4485   480    :  2672   5:226310   975528243 :     27  \n",
       " Max.   :6040   2028   :  2653              975280276 :     26  \n",
       "                (Other):982592              (Other)   :1000043  "
      ]
     },
     "metadata": {},
     "output_type": "display_data"
    }
   ],
   "source": [
    "summary(ratings)"
   ]
  },
  {
   "cell_type": "code",
   "execution_count": 186,
   "metadata": {
    "collapsed": true
   },
   "outputs": [],
   "source": [
    "train_ratings=ratings %>%\n",
    "    select(user_id,movie_id) %>%\n",
    "    filter(user_id<11)"
   ]
  },
  {
   "cell_type": "code",
   "execution_count": 187,
   "metadata": {},
   "outputs": [],
   "source": [
    "test_ratings=ratings %>%\n",
    "    select(user_id,movie_id) %>%\n",
    "    filter(user_id>10 & user_id<16) %>%\n",
    "    arrange(order(user_id))"
   ]
  },
  {
   "cell_type": "code",
   "execution_count": 188,
   "metadata": {
    "collapsed": true
   },
   "outputs": [],
   "source": [
    "user_movie_matrix=create_matrix(train_ratings,'movie_id','user_id')"
   ]
  },
  {
   "cell_type": "code",
   "execution_count": 189,
   "metadata": {
    "collapsed": true
   },
   "outputs": [],
   "source": [
    "rule_param=list(\n",
    "  supp=0.001,\n",
    "  conf=0.7,\n",
    "  maxlen=2\n",
    ")"
   ]
  },
  {
   "cell_type": "code",
   "execution_count": 190,
   "metadata": {},
   "outputs": [
    {
     "name": "stdout",
     "output_type": "stream",
     "text": [
      "Apriori\n",
      "\n",
      "Parameter specification:\n",
      " confidence minval smax arem  aval originalSupport maxtime support minlen\n",
      "        0.7    0.1    1 none FALSE            TRUE       5   0.001      1\n",
      " maxlen target   ext\n",
      "      2  rules FALSE\n",
      "\n",
      "Algorithmic control:\n",
      " filter tree heap memopt load sort verbose\n",
      "    0.1 TRUE TRUE  FALSE TRUE    2    TRUE\n",
      "\n",
      "Absolute minimum support count: 0 \n",
      "\n",
      "set item appearances ...[0 item(s)] done [0.00s].\n",
      "set transactions ...[1080 item(s), 10 transaction(s)] done [0.00s].\n",
      "sorting and recoding items ... [1080 item(s)] done [0.00s].\n",
      "creating transaction tree ... done [0.00s].\n",
      "checking subsets of size 1 2"
     ]
    },
    {
     "name": "stderr",
     "output_type": "stream",
     "text": [
      "Warning message in apriori(user_movie_matrix, parameter = rule_param):\n",
      "\"Mining stopped (maxlen reached). Only patterns up to a length of 2 returned!\""
     ]
    },
    {
     "name": "stdout",
     "output_type": "stream",
     "text": [
      " done [0.01s].\n",
      "writing ... [288258 rule(s)] done [0.05s].\n",
      "creating S4 object  ... done [3.50s].\n"
     ]
    }
   ],
   "source": [
    "rules=apriori(user_movie_matrix,parameter=rule_param)"
   ]
  },
  {
   "cell_type": "code",
   "execution_count": 191,
   "metadata": {},
   "outputs": [],
   "source": [
    "rules_df=as(rules,'data.frame')"
   ]
  },
  {
   "cell_type": "code",
   "execution_count": 192,
   "metadata": {
    "collapsed": true
   },
   "outputs": [],
   "source": [
    "test_ratings$preds=apply(test_ratings,1,function(X) make_pred(X['movie_id'],rules_df))"
   ]
  },
  {
   "cell_type": "code",
   "execution_count": 193,
   "metadata": {},
   "outputs": [],
   "source": [
    "users_preds=as.data.frame(aggregate(preds~user_id,data=test_ratings,paste,collapse=','))\n",
    "users_preds$preds=apply(users_preds,1,function(X) make_unique(X['preds']))"
   ]
  },
  {
   "cell_type": "code",
   "execution_count": 194,
   "metadata": {
    "scrolled": false
   },
   "outputs": [],
   "source": [
    "users_movies=as.data.frame(aggregate(movie_id~user_id,data=test_ratings,paste,collapse=','))\n",
    "users_movies$movies=apply(users_movies,1,function(X) make_unique(X['movie_id']))"
   ]
  },
  {
   "cell_type": "code",
   "execution_count": 195,
   "metadata": {},
   "outputs": [],
   "source": [
    "correct_preds=sum(apply(users_preds,1,function(X) check_preds(X[\"preds\"],X[\"user_id\"])))"
   ]
  },
  {
   "cell_type": "code",
   "execution_count": 196,
   "metadata": {},
   "outputs": [],
   "source": [
    "total_preds=sum(apply(users_preds,1,function(X) count_preds(X[\"preds\"][[1]]))) "
   ]
  },
  {
   "cell_type": "code",
   "execution_count": 197,
   "metadata": {
    "scrolled": true
   },
   "outputs": [],
   "source": [
    "precision=correct_preds*100/total_preds"
   ]
  },
  {
   "cell_type": "code",
   "execution_count": 198,
   "metadata": {},
   "outputs": [
    {
     "data": {
      "text/html": [
       "Inf"
      ],
      "text/latex": [
       "Inf"
      ],
      "text/markdown": [
       "Inf"
      ],
      "text/plain": [
       "[1] Inf"
      ]
     },
     "metadata": {},
     "output_type": "display_data"
    },
    {
     "name": "stdout",
     "output_type": "stream",
     "text": [
      "precision= Inf corr= 5 total= 0"
     ]
    }
   ],
   "source": [
    "precision\n",
    "cat(\"precision=\", precision, \"corr=\",correct_preds,\"total=\",total_preds)"
   ]
  },
  {
   "cell_type": "code",
   "execution_count": null,
   "metadata": {
    "collapsed": true
   },
   "outputs": [],
   "source": []
  }
 ],
 "metadata": {
  "kernelspec": {
   "display_name": "R",
   "language": "R",
   "name": "ir"
  },
  "language_info": {
   "codemirror_mode": "r",
   "file_extension": ".r",
   "mimetype": "text/x-r-source",
   "name": "R",
   "pygments_lexer": "r",
   "version": "3.4.2"
  }
 },
 "nbformat": 4,
 "nbformat_minor": 2
}
