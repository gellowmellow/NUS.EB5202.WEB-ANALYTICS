{
 "cells": [
  {
   "cell_type": "code",
   "execution_count": null,
   "metadata": {
    "collapsed": true
   },
   "outputs": [],
   "source": [
    "library(arules)\n",
    "library(dplyr)\n",
    "library(ggplot2)\n",
    "library(magrittr)\n",
    "library(stringr)"
   ]
  },
  {
   "cell_type": "code",
   "execution_count": 358,
   "metadata": {
    "collapsed": true
   },
   "outputs": [],
   "source": [
    "create_matrix=function(table,column1,column2){\n",
    "    return(as(split(table[,column1],table[,column2]),'transactions'))\n",
    "}"
   ]
  },
  {
   "cell_type": "code",
   "execution_count": 359,
   "metadata": {
    "collapsed": true
   },
   "outputs": [],
   "source": [
    "format_dataset=function(dataset,columns){\n",
    "    if(ncol(dataset)==1)\n",
    "        return(str_split_fixed(dataset$V1,'::',columns))\n",
    "    else\n",
    "        return(dataset)  \n",
    "}"
   ]
  },
  {
   "cell_type": "code",
   "execution_count": 426,
   "metadata": {
    "collapsed": true
   },
   "outputs": [],
   "source": [
    "make_pred=function(item,rules_df) {\n",
    "  antecedent = paste(\"{\",item,\"} =>\",sep=\"\") \n",
    "  firingrules = rules_df[grep(antecedent, rules_df$rules,fixed=TRUE),1]\n",
    "  gsub(\" \",\"\",toString(sub(\"\\\\}\",\"\",sub(\".*=> \\\\{\",\"\",firingrules))))\n",
    "}"
   ]
  },
  {
   "cell_type": "code",
   "execution_count": 360,
   "metadata": {
    "collapsed": true
   },
   "outputs": [],
   "source": [
    "directory='data\\\\1millionfile\\\\ml-1m\\\\'\n",
    "\n",
    "movies='movies.dat'\n",
    "ratings='ratings.dat'\n",
    "users='users.dat'\n",
    "\n",
    "movies=read.csv(paste(c(directory,movies),collapse=''),sep='\\n',stringsAsFactors=FALSE,header=FALSE)\n",
    "ratings=read.csv(paste(c(directory,ratings),collapse=''),sep='\\n',stringsAsFactors=FALSE,header=FALSE)\n",
    "users=read.csv(paste(c(directory,users),collapse=''),sep='\\n',stringsAsFactors=FALSE,header=FALSE)"
   ]
  },
  {
   "cell_type": "code",
   "execution_count": 292,
   "metadata": {},
   "outputs": [
    {
     "data": {
      "text/html": [
       "<table>\n",
       "<thead><tr><th scope=col>id</th><th scope=col>title</th><th scope=col>genre</th><th scope=col>year</th><th scope=col>genre_Animation</th><th scope=col>genre_Children's</th><th scope=col>genre_Comedy</th><th scope=col>genre_Adventure</th><th scope=col>genre_Fantasy</th><th scope=col>genre_Romance</th><th scope=col>...</th><th scope=col>genre_Crime</th><th scope=col>genre_Thriller</th><th scope=col>genre_Horror</th><th scope=col>genre_Sci-Fi</th><th scope=col>genre_Documentary</th><th scope=col>genre_War</th><th scope=col>genre_Musical</th><th scope=col>genre_Mystery</th><th scope=col>genre_Film-Noir</th><th scope=col>genre_Western</th></tr></thead>\n",
       "<tbody>\n",
       "\t<tr><td>1                           </td><td>Toy Story                   </td><td>Animation|Children's|Comedy </td><td>1995                        </td><td>1                           </td><td>1                           </td><td>1                           </td><td>0                           </td><td>0                           </td><td>0                           </td><td>...                         </td><td>0                           </td><td>0                           </td><td>0                           </td><td>0                           </td><td>0                           </td><td>0                           </td><td>0                           </td><td>0                           </td><td>0                           </td><td>0                           </td></tr>\n",
       "\t<tr><td>2                           </td><td>Jumanji                     </td><td>Adventure|Children's|Fantasy</td><td>1995                        </td><td>0                           </td><td>1                           </td><td>0                           </td><td>1                           </td><td>1                           </td><td>0                           </td><td>...                         </td><td>0                           </td><td>0                           </td><td>0                           </td><td>0                           </td><td>0                           </td><td>0                           </td><td>0                           </td><td>0                           </td><td>0                           </td><td>0                           </td></tr>\n",
       "\t<tr><td>3                           </td><td>Grumpier Old Men            </td><td>Comedy|Romance              </td><td>1995                        </td><td>0                           </td><td>0                           </td><td>1                           </td><td>0                           </td><td>0                           </td><td>1                           </td><td>...                         </td><td>0                           </td><td>0                           </td><td>0                           </td><td>0                           </td><td>0                           </td><td>0                           </td><td>0                           </td><td>0                           </td><td>0                           </td><td>0                           </td></tr>\n",
       "\t<tr><td>4                           </td><td>Waiting to Exhale           </td><td>Comedy|Drama                </td><td>1995                        </td><td>0                           </td><td>0                           </td><td>1                           </td><td>0                           </td><td>0                           </td><td>0                           </td><td>...                         </td><td>0                           </td><td>0                           </td><td>0                           </td><td>0                           </td><td>0                           </td><td>0                           </td><td>0                           </td><td>0                           </td><td>0                           </td><td>0                           </td></tr>\n",
       "\t<tr><td>5                           </td><td>Father of the Bride Part II </td><td>Comedy                      </td><td>1995                        </td><td>0                           </td><td>0                           </td><td>1                           </td><td>0                           </td><td>0                           </td><td>0                           </td><td>...                         </td><td>0                           </td><td>0                           </td><td>0                           </td><td>0                           </td><td>0                           </td><td>0                           </td><td>0                           </td><td>0                           </td><td>0                           </td><td>0                           </td></tr>\n",
       "\t<tr><td>6                           </td><td>Heat                        </td><td>Action|Crime|Thriller       </td><td>1995                        </td><td>0                           </td><td>0                           </td><td>0                           </td><td>0                           </td><td>0                           </td><td>0                           </td><td>...                         </td><td>1                           </td><td>1                           </td><td>0                           </td><td>0                           </td><td>0                           </td><td>0                           </td><td>0                           </td><td>0                           </td><td>0                           </td><td>0                           </td></tr>\n",
       "</tbody>\n",
       "</table>\n"
      ],
      "text/latex": [
       "\\begin{tabular}{r|llllllllllllllllllllll}\n",
       " id & title & genre & year & genre\\_Animation & genre\\_Children's & genre\\_Comedy & genre\\_Adventure & genre\\_Fantasy & genre\\_Romance & ... & genre\\_Crime & genre\\_Thriller & genre\\_Horror & genre\\_Sci-Fi & genre\\_Documentary & genre\\_War & genre\\_Musical & genre\\_Mystery & genre\\_Film-Noir & genre\\_Western\\\\\n",
       "\\hline\n",
       "\t 1                                                & Toy Story                                        & Animation\\textbar{}Children's\\textbar{}Comedy  & 1995                                             & 1                                                & 1                                                & 1                                                & 0                                                & 0                                                & 0                                                & ...                                              & 0                                                & 0                                                & 0                                                & 0                                                & 0                                                & 0                                                & 0                                                & 0                                                & 0                                                & 0                                               \\\\\n",
       "\t 2                                                & Jumanji                                          & Adventure\\textbar{}Children's\\textbar{}Fantasy & 1995                                             & 0                                                & 1                                                & 0                                                & 1                                                & 1                                                & 0                                                & ...                                              & 0                                                & 0                                                & 0                                                & 0                                                & 0                                                & 0                                                & 0                                                & 0                                                & 0                                                & 0                                               \\\\\n",
       "\t 3                                      & Grumpier Old Men                       & Comedy\\textbar{}Romance               & 1995                                   & 0                                      & 0                                      & 1                                      & 0                                      & 0                                      & 1                                      & ...                                    & 0                                      & 0                                      & 0                                      & 0                                      & 0                                      & 0                                      & 0                                      & 0                                      & 0                                      & 0                                     \\\\\n",
       "\t 4                                      & Waiting to Exhale                      & Comedy\\textbar{}Drama                 & 1995                                   & 0                                      & 0                                      & 1                                      & 0                                      & 0                                      & 0                                      & ...                                    & 0                                      & 0                                      & 0                                      & 0                                      & 0                                      & 0                                      & 0                                      & 0                                      & 0                                      & 0                                     \\\\\n",
       "\t 5                            & Father of the Bride Part II  & Comedy                       & 1995                         & 0                            & 0                            & 1                            & 0                            & 0                            & 0                            & ...                          & 0                            & 0                            & 0                            & 0                            & 0                            & 0                            & 0                            & 0                            & 0                            & 0                           \\\\\n",
       "\t 6                                                & Heat                                             & Action\\textbar{}Crime\\textbar{}Thriller        & 1995                                             & 0                                                & 0                                                & 0                                                & 0                                                & 0                                                & 0                                                & ...                                              & 1                                                & 1                                                & 0                                                & 0                                                & 0                                                & 0                                                & 0                                                & 0                                                & 0                                                & 0                                               \\\\\n",
       "\\end{tabular}\n"
      ],
      "text/markdown": [
       "\n",
       "id | title | genre | year | genre_Animation | genre_Children's | genre_Comedy | genre_Adventure | genre_Fantasy | genre_Romance | ... | genre_Crime | genre_Thriller | genre_Horror | genre_Sci-Fi | genre_Documentary | genre_War | genre_Musical | genre_Mystery | genre_Film-Noir | genre_Western | \n",
       "|---|---|---|---|---|---|\n",
       "| 1                            | Toy Story                    | Animation|Children's|Comedy  | 1995                         | 1                            | 1                            | 1                            | 0                            | 0                            | 0                            | ...                          | 0                            | 0                            | 0                            | 0                            | 0                            | 0                            | 0                            | 0                            | 0                            | 0                            | \n",
       "| 2                            | Jumanji                      | Adventure|Children's|Fantasy | 1995                         | 0                            | 1                            | 0                            | 1                            | 1                            | 0                            | ...                          | 0                            | 0                            | 0                            | 0                            | 0                            | 0                            | 0                            | 0                            | 0                            | 0                            | \n",
       "| 3                            | Grumpier Old Men             | Comedy|Romance               | 1995                         | 0                            | 0                            | 1                            | 0                            | 0                            | 1                            | ...                          | 0                            | 0                            | 0                            | 0                            | 0                            | 0                            | 0                            | 0                            | 0                            | 0                            | \n",
       "| 4                            | Waiting to Exhale            | Comedy|Drama                 | 1995                         | 0                            | 0                            | 1                            | 0                            | 0                            | 0                            | ...                          | 0                            | 0                            | 0                            | 0                            | 0                            | 0                            | 0                            | 0                            | 0                            | 0                            | \n",
       "| 5                            | Father of the Bride Part II  | Comedy                       | 1995                         | 0                            | 0                            | 1                            | 0                            | 0                            | 0                            | ...                          | 0                            | 0                            | 0                            | 0                            | 0                            | 0                            | 0                            | 0                            | 0                            | 0                            | \n",
       "| 6                            | Heat                         | Action|Crime|Thriller        | 1995                         | 0                            | 0                            | 0                            | 0                            | 0                            | 0                            | ...                          | 1                            | 1                            | 0                            | 0                            | 0                            | 0                            | 0                            | 0                            | 0                            | 0                            | \n",
       "\n",
       "\n"
      ],
      "text/plain": [
       "  id title                       genre                        year\n",
       "1 1  Toy Story                   Animation|Children's|Comedy  1995\n",
       "2 2  Jumanji                     Adventure|Children's|Fantasy 1995\n",
       "3 3  Grumpier Old Men            Comedy|Romance               1995\n",
       "4 4  Waiting to Exhale           Comedy|Drama                 1995\n",
       "5 5  Father of the Bride Part II Comedy                       1995\n",
       "6 6  Heat                        Action|Crime|Thriller        1995\n",
       "  genre_Animation genre_Children's genre_Comedy genre_Adventure genre_Fantasy\n",
       "1 1               1                1            0               0            \n",
       "2 0               1                0            1               1            \n",
       "3 0               0                1            0               0            \n",
       "4 0               0                1            0               0            \n",
       "5 0               0                1            0               0            \n",
       "6 0               0                0            0               0            \n",
       "  genre_Romance ... genre_Crime genre_Thriller genre_Horror genre_Sci-Fi\n",
       "1 0             ... 0           0              0            0           \n",
       "2 0             ... 0           0              0            0           \n",
       "3 1             ... 0           0              0            0           \n",
       "4 0             ... 0           0              0            0           \n",
       "5 0             ... 0           0              0            0           \n",
       "6 0             ... 1           1              0            0           \n",
       "  genre_Documentary genre_War genre_Musical genre_Mystery genre_Film-Noir\n",
       "1 0                 0         0             0             0              \n",
       "2 0                 0         0             0             0              \n",
       "3 0                 0         0             0             0              \n",
       "4 0                 0         0             0             0              \n",
       "5 0                 0         0             0             0              \n",
       "6 0                 0         0             0             0              \n",
       "  genre_Western\n",
       "1 0            \n",
       "2 0            \n",
       "3 0            \n",
       "4 0            \n",
       "5 0            \n",
       "6 0            "
      ]
     },
     "metadata": {},
     "output_type": "display_data"
    }
   ],
   "source": [
    "head(movies)"
   ]
  },
  {
   "cell_type": "code",
   "execution_count": 361,
   "metadata": {
    "collapsed": true
   },
   "outputs": [],
   "source": [
    "movies=as.data.frame(format_dataset(movies,3))\n",
    "ratings=as.data.frame(format_dataset(ratings,4))\n",
    "users=as.data.frame(format_dataset(users,5))"
   ]
  },
  {
   "cell_type": "code",
   "execution_count": 392,
   "metadata": {
    "collapsed": true
   },
   "outputs": [],
   "source": [
    "colnames(movies)=c('id','title','genre')\n",
    "colnames(ratings)=c('user_id','movie_id','rating','timestamp')\n",
    "colnames(users)=c('id','gender','age','occupation','zip_code')\n",
    "\n",
    "ratings$user_id=as.integer(ratings$user_id)"
   ]
  },
  {
   "cell_type": "code",
   "execution_count": 363,
   "metadata": {
    "collapsed": true
   },
   "outputs": [],
   "source": [
    "movies$year=as.numeric(str_sub(str_trim(movies$title),start=-5,end=-2))\n",
    "movies$title=substr(movies$title,1,nchar(as.character(movies$title))-7)"
   ]
  },
  {
   "cell_type": "code",
   "execution_count": 364,
   "metadata": {
    "collapsed": true
   },
   "outputs": [],
   "source": [
    "genres=unique(unlist(strsplit(as.character(movies$genre),('\\\\|'))))"
   ]
  },
  {
   "cell_type": "code",
   "execution_count": 365,
   "metadata": {
    "collapsed": true
   },
   "outputs": [],
   "source": [
    "for(genre in genres){\n",
    "  movies[str_c('genre_',genre)]=ifelse((str_detect(movies$genre,genre)|str_detect(movies$genre,'no genre')),1,0)\n",
    "}"
   ]
  },
  {
   "cell_type": "code",
   "execution_count": 366,
   "metadata": {
    "collapsed": true
   },
   "outputs": [],
   "source": [
    "user_item_matrix=create_matrix(ratings,'movie_id','user_id')"
   ]
  },
  {
   "cell_type": "code",
   "execution_count": 410,
   "metadata": {
    "scrolled": true
   },
   "outputs": [
    {
     "data": {
      "text/plain": [
       "    user_id        movie_id    rating          timestamp      \n",
       " Min.   :   1   Min.   :   1   1: 56174   975528402 :     30  \n",
       " 1st Qu.:1506   1st Qu.: 675   2:107557   975440712 :     28  \n",
       " Median :3070   Median :1622   3:261197   975527781 :     28  \n",
       " Mean   :3025   Mean   :1673   4:348971   1025585635:     27  \n",
       " 3rd Qu.:4476   3rd Qu.:2594   5:226310   975528243 :     27  \n",
       " Max.   :6040   Max.   :3706              975280276 :     26  \n",
       "                                          (Other)   :1000043  "
      ]
     },
     "metadata": {},
     "output_type": "display_data"
    }
   ],
   "source": [
    "summary(ratings)"
   ]
  },
  {
   "cell_type": "code",
   "execution_count": 412,
   "metadata": {
    "collapsed": true
   },
   "outputs": [],
   "source": [
    "train_ratings=ratings %>%\n",
    "    select(user_id,movie_id) %>%\n",
    "    filter(user_id<4476)"
   ]
  },
  {
   "cell_type": "code",
   "execution_count": 413,
   "metadata": {
    "collapsed": true
   },
   "outputs": [],
   "source": [
    "test_ratings=ratings %>%\n",
    "    select(user_id,movie_id) %>%\n",
    "    filter(as.integer(user_id)>4475) %>%\n",
    "    arrange(order(user_id))"
   ]
  },
  {
   "cell_type": "code",
   "execution_count": 414,
   "metadata": {
    "collapsed": true
   },
   "outputs": [],
   "source": [
    "user_movie_matrix=create_matrix(train_ratings,'movie_id','user_id')"
   ]
  },
  {
   "cell_type": "code",
   "execution_count": 415,
   "metadata": {
    "collapsed": true
   },
   "outputs": [],
   "source": [
    "rule_param=list(\n",
    "  supp=0.001,\n",
    "  conf=0.7,\n",
    "  maxlen=2\n",
    ")"
   ]
  },
  {
   "cell_type": "code",
   "execution_count": 420,
   "metadata": {},
   "outputs": [
    {
     "name": "stdout",
     "output_type": "stream",
     "text": [
      "Apriori\n",
      "\n",
      "Parameter specification:\n",
      " confidence minval smax arem  aval originalSupport maxtime support minlen\n",
      "        0.7    0.1    1 none FALSE            TRUE       5   0.001      1\n",
      " maxlen target   ext\n",
      "      2  rules FALSE\n",
      "\n",
      "Algorithmic control:\n",
      " filter tree heap memopt load sort verbose\n",
      "    0.1 TRUE TRUE  FALSE TRUE    2    TRUE\n",
      "\n",
      "Absolute minimum support count: 4 \n",
      "\n",
      "set item appearances ...[0 item(s)] done [0.00s].\n",
      "set transactions ...[3672 item(s), 4475 transaction(s)] done [0.09s].\n",
      "sorting and recoding items ... [3366 item(s)] done [0.01s].\n",
      "creating transaction tree ... done [0.00s].\n",
      "checking subsets of size 1 2"
     ]
    },
    {
     "name": "stderr",
     "output_type": "stream",
     "text": [
      "Warning message in apriori(user_movie_matrix, parameter = rule_param):\n",
      "\"Mining stopped (maxlen reached). Only patterns up to a length of 2 returned!\""
     ]
    },
    {
     "name": "stdout",
     "output_type": "stream",
     "text": [
      " done [0.39s].\n",
      "writing ... [88336 rule(s)] done [0.09s].\n",
      "creating S4 object  ... done [0.02s].\n"
     ]
    }
   ],
   "source": [
    "rules=apriori(user_movie_matrix,parameter=rule_param)"
   ]
  },
  {
   "cell_type": "code",
   "execution_count": 422,
   "metadata": {
    "collapsed": true
   },
   "outputs": [],
   "source": [
    "rules_df=as(rules,'data.frame')"
   ]
  },
  {
   "cell_type": "code",
   "execution_count": null,
   "metadata": {
    "collapsed": true
   },
   "outputs": [],
   "source": [
    "test_ratings$preds=apply(test_ratings,1,function(X) make_pred(X['movie_id'],rules_df))"
   ]
  },
  {
   "cell_type": "code",
   "execution_count": 372,
   "metadata": {
    "collapsed": true
   },
   "outputs": [],
   "source": [
    "# extract unique predictions for each test user\n",
    "userpreds = as.data.frame(aggregate(preds ~ basketID, data = testegs, paste, collapse=\",\"))\n",
    "userpreds$preds = apply(userpreds,1,function(X) uniqueitems(X[\"preds\"]))\n",
    "\n",
    "# extract unique items bought (or rated highly) for each test user\n",
    "baskets = as.data.frame(aggregate(items ~ basketID, data = testegs, paste, collapse=\",\"))\n",
    "baskets$items = apply(baskets,1,function(X) uniqueitems(X[\"items\"]))\n",
    "\n",
    "#count how many unique predictions made are correct, i.e. have previously been bought (or rated highly) by the user\n",
    "correctpreds = sum(apply(userpreds,1,function(X) checkpreds(X[\"preds\"],X[\"basketID\"])))\n",
    "\n",
    "# count total number of unique predictions made\n",
    "totalpreds = sum(apply(userpreds,1,function(X) countpreds(X[\"preds\"][[1]]))) \n",
    "\n",
    "precision = correctpreds*100/totalpreds\n",
    "\n",
    "cat(\"precision=\", precision, \"corr=\",correctpreds,\"total=\",totalpreds)"
   ]
  }
 ],
 "metadata": {
  "kernelspec": {
   "display_name": "R",
   "language": "R",
   "name": "ir"
  },
  "language_info": {
   "codemirror_mode": "r",
   "file_extension": ".r",
   "mimetype": "text/x-r-source",
   "name": "R",
   "pygments_lexer": "r",
   "version": "3.4.2"
  }
 },
 "nbformat": 4,
 "nbformat_minor": 2
}
